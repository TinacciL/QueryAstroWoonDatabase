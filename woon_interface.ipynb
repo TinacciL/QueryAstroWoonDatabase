{
 "cells": [
  {
   "cell_type": "code",
   "execution_count": 1,
   "metadata": {
    "tags": [
     "outputPrepend",
     "outputPrepend",
     "outputPrepend",
     "outputPrepend",
     "outputPrepend",
     "outputPrepend",
     "outputPrepend",
     "outputPrepend",
     "outputPrepend",
     "outputPrepend",
     "outputPrepend",
     "outputPrepend",
     "outputPrepend",
     "outputPrepend"
    ]
   },
   "outputs": [
    {
     "output_type": "error",
     "ename": "SyntaxError",
     "evalue": "invalid syntax (<ipython-input-1-dda55c1832f2>, line 38)",
     "traceback": [
      "\u001b[0;36m  File \u001b[0;32m\"<ipython-input-1-dda55c1832f2>\"\u001b[0;36m, line \u001b[0;32m38\u001b[0m\n\u001b[0;31m    else:\u001b[0m\n\u001b[0m       ^\u001b[0m\n\u001b[0;31mSyntaxError\u001b[0m\u001b[0;31m:\u001b[0m invalid syntax\n"
     ]
    }
   ],
   "source": [
    "from bs4 import BeautifulSoup\n",
    "import os\n",
    "import requests\n",
    "import pandas as pd\n",
    "from urllib.request import urlopen, urlretrieve\n",
    "\n",
    "pwd = '/Users/tinaccil/Documents/GitHub/woon_query/xyz_files'\n",
    "main_url = \"http://www.astrochymist.org/properties/\"\n",
    "url =  requests.get(main_url).text\n",
    "soup = BeautifulSoup(url,features=\"html.parser\")\n",
    "hrf_Natoms = []\n",
    "for link in soup.find_all('a'):\n",
    "    tmp = link.get('href')\n",
    "    if 'atoms' in tmp:\n",
    "        hrf_Natoms.append(tmp)\n",
    "for j,item_j in enumerate(hrf_Natoms): \n",
    "    tmp_url = main_url + item_j\n",
    "    url =  requests.get(tmp_url).text\n",
    "    soup = BeautifulSoup(url,features=\"html.parser\")\n",
    "    hrf_mol = []\n",
    "    for link in soup.find_all('a'):\n",
    "        tmp = link.get('href')\n",
    "        if '.xyz' in tmp:\n",
    "            hrf_mol.append(tmp)\n",
    "    tmp_bl = True\n",
    "    tmp_str_url = ''\n",
    "    for i,item in enumerate(item_j):\n",
    "        if item == '/':\n",
    "            tmp_bl = False\n",
    "        if tmp_bl == True:\n",
    "            tmp_str_url = tmp_str_url + item\n",
    "    for i,item in enumerate(hrf_mol):\n",
    "        filename = os.path.join(pwd, item.rsplit('/', 1)[-1])\n",
    "        tmp_url = main_url + tmp_str_url + item[1:]\n",
    "        try:\n",
    "            urlretrieve(tmp_url, filename)\n",
    "            print(tmp_url,filename)\n",
    "        except:\n",
    "            print(item_j,item,tmp_url)"
   ]
  },
  {
   "cell_type": "code",
   "execution_count": null,
   "metadata": {},
   "outputs": [],
   "source": [
    "for i,table in enumerate(info):\n",
    "    with pd.option_context('display.max_rows', None, 'display.max_columns', None):\n",
    "        display(table)"
   ]
  }
 ],
 "metadata": {
  "language_info": {
   "name": "python",
   "codemirror_mode": {
    "name": "ipython",
    "version": 3
   },
   "version": "3.7.6-final"
  },
  "orig_nbformat": 2,
  "file_extension": ".py",
  "mimetype": "text/x-python",
  "name": "python",
  "npconvert_exporter": "python",
  "pygments_lexer": "ipython3",
  "version": 3,
  "kernelspec": {
   "name": "python37664bitminiconda3conda76ed2694244d4706aae228611b40b511",
   "display_name": "Python 3.7.6 64-bit ('miniconda3': conda)"
  }
 },
 "nbformat": 4,
 "nbformat_minor": 2
}