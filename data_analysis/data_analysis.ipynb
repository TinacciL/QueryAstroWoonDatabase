{
 "cells": [
  {
   "cell_type": "code",
   "execution_count": null,
   "metadata": {
    "tags": [
     "outputPrepend",
     "outputPrepend",
     "outputPrepend",
     "outputPrepend",
     "outputPrepend",
     "outputPrepend",
     "outputPrepend",
     "outputPrepend",
     "outputPrepend",
     "outputPrepend",
     "outputPrepend",
     "outputPrepend",
     "outputPrepend",
     "outputPrepend",
     "outputPrepend",
     "outputPrepend",
     "outputPrepend",
     "outputPrepend",
     "outputPrepend",
     "outputPrepend",
     "outputPrepend",
     "outputPrepend",
     "outputPrepend",
     "outputPrepend",
     "outputPrepend",
     "outputPrepend",
     "outputPrepend",
     "outputPrepend",
     "outputPrepend",
     "outputPrepend",
     "outputPrepend",
     "outputPrepend",
     "outputPrepend",
     "outputPrepend",
     "outputPrepend",
     "outputPrepend",
     "outputPrepend",
     "outputPrepend",
     "outputPrepend",
     "outputPrepend",
     "outputPrepend",
     "outputPrepend",
     "outputPrepend",
     "outputPrepend",
     "outputPrepend",
     "outputPrepend"
    ]
   },
   "outputs": [],
   "source": [
    "import os\n",
    "import pandas as pd\n",
    "import numpy as np\n",
    "from mol_lib import xtb_isomers, FromXtbToSpinM, FromFormulaToAtomsList, FromFormulaToElectronCore, FromFormulaToElectron\n",
    "import matplotlib.pyplot as plt\n",
    "\n",
    "with open(\"/Users/tinaccil/Documents/GitHub/woon_query/data_analysis/dataframe/molecules_info.csv\",\"r\") as data:\n",
    "\tdf_mol = pd.read_csv(data, delimiter = '\\t')\n",
    "with open(\"/Users/tinaccil/Documents/GitHub/woon_query/data_analysis/dataframe/network.csv\",\"r\") as data:\n",
    "\tdf_net = pd.read_csv(data, delimiter = '\\t')\n",
    "\n",
    "with pd.option_context('display.max_rows', None, 'display.max_columns', None):\n",
    "    display(df_mol)"
   ]
  },
  {
   "cell_type": "code",
   "execution_count": null,
   "metadata": {},
   "outputs": [],
   "source": [
    "FromFormulaToElectronCore\n",
    "df_mol['core_el'] = df_mol.apply(lambda row: FromFormulaToElectronCore(row['formula']), axis=1)\n",
    "df_mol['electron'] = df_mol.apply(lambda row: FromFormulaToElectron(row['formula']), axis=1)\n",
    "df_mol.sort_values(by=['electron',\"Mass\"], inplace=True)\n",
    "#with pd.option_context('display.max_rows', None, 'display.max_columns', None):\n",
    "#    display(df_mol)\n"
   ]
  },
  {
   "cell_type": "code",
   "execution_count": null,
   "metadata": {},
   "outputs": [],
   "source": [
    "import numpy as np\n",
    "import matplotlib.pyplot as plt\n",
    "from scipy.optimize import curve_fit\n",
    "\n",
    "def func(X, a, b, c):\n",
    "    x,y  = X\n",
    "    return a * x + b * y + c\n",
    "\n",
    "name = df_mol['name'].tolist()\n",
    "e_xtb = df_mol['energy(kJ/mol)_xtb'].tolist()\n",
    "e_w = df_mol['energy(kJ/mol)_woon'].tolist()\n",
    "e_ce = df_mol['core_el'].tolist()\n",
    "e_e = df_mol['electron'].tolist()\n",
    "\n",
    "\n",
    "params, params_covariance = curve_fit(func, (e_xtb,e_e), e_w)\n",
    "print(params)\n",
    "\n",
    "e_xtb_n = []\n",
    "for i,item in enumerate(e_xtb):\n",
    "    e_xtb_n.append(func((e_xtb[i],e_e[i]), params[0], params[1], params[2]))\n",
    "\n",
    "plt.figure(figsize=(20, 10))\n",
    "plt.scatter(name, e_w, label='woon', color='Red')\n",
    "plt.scatter(name, e_xtb_n, label='f(xtb,ncore)', color='Blue')\n",
    "plt.legend(loc='best')\n",
    "plt.xticks(rotation=90)\n",
    "#plt.ylim(1.45e-10,2.01e-10)\n",
    "plt.show()   "
   ]
  },
  {
   "cell_type": "code",
   "execution_count": null,
   "metadata": {},
   "outputs": [],
   "source": [
    "ax = df_mol.plot(x='name', y='energy(kJ/mol)_woon', kind='scatter', color='Blue', label='Woon')\n",
    "df_mol.plot(x='name', y='energy(kJ/mol)_xtb', color='Red', kind='scatter',ax=ax, label='xTB', figsize=(20,10))\n",
    "plt.xticks(rotation=90)"
   ]
  },
  {
   "cell_type": "code",
   "execution_count": null,
   "metadata": {},
   "outputs": [],
   "source": [
    "#df_mol.plot(x='energy(kJ/mol)_woon', y='energy(kJ/mol)_xtb', color='Red', kind='scatter', figsize=(20,10))\n",
    "\n",
    "fig, ax = plt.subplots(figsize=(30, 60))\n",
    "ax.scatter(e_w, e_xtb)\n",
    "for i, txt in enumerate(name):\n",
    "    ax.annotate(txt, (e_w[i], e_xtb[i]))"
   ]
  },
  {
   "cell_type": "code",
   "execution_count": null,
   "metadata": {},
   "outputs": [],
   "source": [
    "def norm(val,val_n):\n",
    "    tmp = (val - val_n) / abs(val_n) \n",
    "    return(tmp)\n",
    "\n",
    "max_val_x = df_mol['energy(kJ/mol)_xtb'].min()\n",
    "df_mol['n_x'] = df_mol.apply(lambda row: norm(row['energy(kJ/mol)_xtb'],max_val_x), axis=1)\n",
    "\n",
    "max_val_w = df_mol['energy(kJ/mol)_woon'].min()\n",
    "df_mol['n_w'] = df_mol.apply(lambda row: norm(row['energy(kJ/mol)_woon'],max_val_w), axis=1)\n",
    "\n",
    "ax = df_mol.plot(x='name', y='n_w', kind='scatter', color='Blue', label='Woon')\n",
    "df_mol.plot(x='name', y='n_x', color='Red', kind='scatter',ax=ax, label='xTB', figsize=(20,10))\n",
    "plt.xticks(rotation=90)\n"
   ]
  },
  {
   "cell_type": "code",
   "execution_count": null,
   "metadata": {},
   "outputs": [],
   "source": [
    "df_net['diff'] = df_net['Reaction_Energy(kJ/mol)_xtb'] - df_net['Reaction_Energy(kJ/mol)_Woon']\n",
    "#df_net.plot(x='ID_kida', y='diff', color='Red', kind='scatter',figsize=(20,10))\n",
    "df_net['diff'].diff().hist(bins=30)"
   ]
  },
  {
   "cell_type": "code",
   "execution_count": null,
   "metadata": {},
   "outputs": [],
   "source": [
    "'''\n",
    "tmp_w = df_mol['multiplicity_woon'].tolist()\n",
    "tmp_x = df_mol['multiplicity_xtb'].tolist()\n",
    "\n",
    "tmp_b = []\n",
    "for i,item in enumerate(tmp_w):\n",
    "\tif (int(tmp_w[i]) - int(tmp_x[i])) == 0:\n",
    "\t\ttmp_b.append(True)\n",
    "\telse:\n",
    "\t\ttmp_b.append(False)\n",
    "\n",
    "df_mol['bool'] = tmp_b\n",
    "df_mol_f = df_mol[df_mol['bool'] == False]\n",
    "df_mol = df_mol.drop([\"bool\"], axis=1)\n",
    "'''"
   ]
  }
 ],
 "metadata": {
  "language_info": {
   "name": "python",
   "codemirror_mode": {
    "name": "ipython",
    "version": 3
   },
   "version": "3.7.6-final"
  },
  "orig_nbformat": 2,
  "file_extension": ".py",
  "mimetype": "text/x-python",
  "name": "python",
  "npconvert_exporter": "python",
  "pygments_lexer": "ipython3",
  "version": 3,
  "kernelspec": {
   "name": "python37664bitminiconda3conda76ed2694244d4706aae228611b40b511",
   "display_name": "Python 3.7.6 64-bit ('miniconda3': conda)"
  }
 },
 "nbformat": 4,
 "nbformat_minor": 2
}