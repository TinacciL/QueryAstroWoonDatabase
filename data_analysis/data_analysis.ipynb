{
 "cells": [
  {
   "cell_type": "code",
   "execution_count": null,
   "metadata": {
    "tags": [
     "outputPrepend",
     "outputPrepend",
     "outputPrepend",
     "outputPrepend",
     "outputPrepend",
     "outputPrepend",
     "outputPrepend",
     "outputPrepend",
     "outputPrepend",
     "outputPrepend",
     "outputPrepend",
     "outputPrepend",
     "outputPrepend",
     "outputPrepend",
     "outputPrepend",
     "outputPrepend",
     "outputPrepend",
     "outputPrepend",
     "outputPrepend",
     "outputPrepend",
     "outputPrepend",
     "outputPrepend",
     "outputPrepend",
     "outputPrepend",
     "outputPrepend",
     "outputPrepend",
     "outputPrepend",
     "outputPrepend",
     "outputPrepend",
     "outputPrepend",
     "outputPrepend",
     "outputPrepend",
     "outputPrepend",
     "outputPrepend",
     "outputPrepend",
     "outputPrepend",
     "outputPrepend",
     "outputPrepend",
     "outputPrepend",
     "outputPrepend",
     "outputPrepend",
     "outputPrepend",
     "outputPrepend",
     "outputPrepend",
     "outputPrepend",
     "outputPrepend"
    ]
   },
   "outputs": [],
   "source": [
    "import os\n",
    "import pandas as pd\n",
    "import numpy as np\n",
    "from mol_lib import xtb_isomers, FromXtbToSpinM\n",
    "\n",
    "with open(\"/Users/tinaccil/Documents/GitHub/woon_query/data_analysis/dataframe/molecules_info.csv\",\"r\") as data:\n",
    "\tdf_mol = pd.read_csv(data, delimiter = '\\t')\n",
    "with open(\"/Users/tinaccil/Documents/GitHub/woon_query/data_analysis/dataframe/network.csv\",\"r\") as data:\n",
    "\tdf_net = pd.read_csv(data, delimiter = '\\t')\n",
    "\n",
    "#with pd.option_context('display.max_rows', None, 'display.max_columns', None):\n",
    "#    display(df_mol)"
   ]
  },
  {
   "cell_type": "code",
   "execution_count": null,
   "metadata": {},
   "outputs": [],
   "source": []
  },
  {
   "cell_type": "code",
   "execution_count": null,
   "metadata": {},
   "outputs": [],
   "source": [
    "'''\n",
    "tmp_w = df_mol['multiplicity_woon'].tolist()\n",
    "tmp_x = df_mol['multiplicity_xtb'].tolist()\n",
    "\n",
    "tmp_b = []\n",
    "for i,item in enumerate(tmp_w):\n",
    "\tif (int(tmp_w[i]) - int(tmp_x[i])) == 0:\n",
    "\t\ttmp_b.append(True)\n",
    "\telse:\n",
    "\t\ttmp_b.append(False)\n",
    "\n",
    "df_mol['bool'] = tmp_b\n",
    "df_mol_f = df_mol[df_mol['bool'] == False]\n",
    "df_mol = df_mol.drop([\"bool\"], axis=1)\n",
    "'''"
   ]
  }
 ],
 "metadata": {
  "language_info": {
   "name": "python",
   "codemirror_mode": {
    "name": "ipython",
    "version": 3
   },
   "version": "3.7.6-final"
  },
  "orig_nbformat": 2,
  "file_extension": ".py",
  "mimetype": "text/x-python",
  "name": "python",
  "npconvert_exporter": "python",
  "pygments_lexer": "ipython3",
  "version": 3,
  "kernelspec": {
   "name": "python37664bitminiconda3conda76ed2694244d4706aae228611b40b511",
   "display_name": "Python 3.7.6 64-bit ('miniconda3': conda)"
  }
 },
 "nbformat": 4,
 "nbformat_minor": 2
}