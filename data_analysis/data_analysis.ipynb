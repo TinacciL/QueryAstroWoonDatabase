{
 "cells": [
  {
   "cell_type": "code",
   "execution_count": 1,
   "metadata": {
    "tags": [
     "outputPrepend",
     "outputPrepend",
     "outputPrepend",
     "outputPrepend",
     "outputPrepend",
     "outputPrepend",
     "outputPrepend",
     "outputPrepend",
     "outputPrepend",
     "outputPrepend",
     "outputPrepend",
     "outputPrepend",
     "outputPrepend",
     "outputPrepend",
     "outputPrepend",
     "outputPrepend",
     "outputPrepend",
     "outputPrepend",
     "outputPrepend",
     "outputPrepend",
     "outputPrepend",
     "outputPrepend",
     "outputPrepend",
     "outputPrepend",
     "outputPrepend",
     "outputPrepend",
     "outputPrepend",
     "outputPrepend",
     "outputPrepend",
     "outputPrepend",
     "outputPrepend",
     "outputPrepend",
     "outputPrepend",
     "outputPrepend",
     "outputPrepend",
     "outputPrepend",
     "outputPrepend",
     "outputPrepend",
     "outputPrepend",
     "outputPrepend",
     "outputPrepend",
     "outputPrepend",
     "outputPrepend",
     "outputPrepend",
     "outputPrepend",
     "outputPrepend"
    ]
   },
   "outputs": [
    {
     "output_type": "stream",
     "name": "stderr",
     "text": "RDKit WARNING: [14:50:45] Enabling RDKit 2019.09.3 jupyter extensions\n"
    }
   ],
   "source": [
    "import os\n",
    "import pandas as pd\n",
    "import numpy as np\n",
    "from mol_lib import xtb_isomers, FromXtbToSpinM\n",
    "\n",
    "with open(\"/Users/tinaccil/Documents/GitHub/woon_query/data_analysis/dataframe/molecules_info.csv\",\"r\") as data:\n",
    "\tdf_mol = pd.read_csv(data, delimiter = '\\t')\n",
    "with open(\"/Users/tinaccil/Documents/GitHub/woon_query/data_analysis/dataframe/network.csv\",\"r\") as data:\n",
    "\tdf_net = pd.read_csv(data, delimiter = '\\t')\n",
    "\n",
    "#with pd.option_context('display.max_rows', None, 'display.max_columns', None):\n",
    "#    display(df_mol)"
   ]
  },
  {
   "cell_type": "code",
   "execution_count": 23,
   "metadata": {},
   "outputs": [],
   "source": [
    "def test(directory):\n",
    "    num = ['0','1','2','3','4','5','6','7','8','9']\n",
    "    main = os.getcwd()\n",
    "    os.chdir(directory)\n",
    "    mol_dir = os.getcwd()\n",
    "    mol_file_list = os.listdir()\n",
    "    if '.DS_Store' in mol_file_list:\n",
    "        mol_file_list.remove('.DS_Store')\n",
    "    for k,mol in enumerate(mol_file_list):\n",
    "        os.chdir(mol)\n",
    "        tmp_dir = os.getcwd()\n",
    "        list_file = os.listdir()\n",
    "        if '.DS_Store' in list_file:\n",
    "            list_file.remove('.DS_Store')\n",
    "        for i,item in enumerate(list_file):\n",
    "            os.chdir(item)\n",
    "            path = os.getcwd()\n",
    "            tmp_files = os.listdir()\n",
    "            out_file = item + '.out'\n",
    "            info_file = item + '.info'\n",
    "            if out_file in tmp_files:\n",
    "                with open(out_file,\"r\") as data:\n",
    "                    lines = data.readlines()\n",
    "                    tmp_start = False\n",
    "                    tmp_end = False\n",
    "                    tmp_ok = False\n",
    "                    data_occ = []\n",
    "                    ref_line = '-'*61\n",
    "                    for j,item_j in enumerate(lines):\n",
    "                        if 'Orbital Energies and Occupations' in item_j:\n",
    "                            tmp_start = True\n",
    "                        if tmp_start == True and ref_line in item_j and tmp_ok == True:\n",
    "                            tmp_end = True\n",
    "                            tmp_start = False\n",
    "                            tmp_ok = False\n",
    "                        elif tmp_start == True and ref_line in item_j and tmp_ok == False:\n",
    "                            tmp_ok = True\n",
    "                        if tmp_ok == True and ref_line not in item_j:\n",
    "                            tmp_d = item_j.strip().split()\n",
    "                            if len(tmp_d[0]) == 1:\n",
    "                                if tmp_d[0] in num:\n",
    "                                    if len(tmp_d[1]) > 6:\n",
    "                                        tmp_d.insert(1,'0.0000')\n",
    "                                    data_occ.append(tmp_d)\n",
    "                            if len(tmp_d[0]) == 2:\n",
    "                                if tmp_d[0][0] in num:\n",
    "                                    if len(tmp_d[1]) > 6:\n",
    "                                        tmp_d.insert(1,'0.0000')\n",
    "                                    data_occ.append(tmp_d)\n",
    "                    if len(data_occ) != 0:\n",
    "                        spin_m = str(FromXtbToSpinM(data_occ))\n",
    "                    else:\n",
    "                        spin_m = 'error'\n",
    "                    #with open(info_file,\"a\") as data:\n",
    "                    #    data.write('Spin_M: ' + spin_m + '\\n')\n",
    "                    print(item, spin_m)\n",
    "            os.chdir(tmp_dir)\n",
    "        os.chdir(mol_dir)\n",
    "    os.chdir(main)\n",
    "    return(data_occ)"
   ]
  },
  {
   "cell_type": "code",
   "execution_count": 24,
   "metadata": {},
   "outputs": [
    {
     "output_type": "stream",
     "name": "stdout",
     "text": "H2C3_4 1\nH2C3_3 1\nH2C3_2 1\nH2C3_5 1\nH2O1_0 1\nN1O2_2 2\nN1O2_0 2\nN1O2_1 2\nH4C1_0 1\nC4N1_47 2\nC4N1_40 2\nC4N1_49 2\nC4N1_22 2\nC4N1_14 2\nC4N1_48 2\nC4N1_24 2\nC4N1_39 2\nC4N1_37 4\nC4N1_30 2\nC4N1_52 2\nC4N1_38 2\nC4N1_53 2\nC4N1_54 4\nC4N1_21 2\nC4N1_19 2\nC4N1_28 2\nC4N1_43 2\nC4N1_44 2\nC4N1_29 4\nC4N1_16 2\nC4N1_18 2\nC4N1_20 2\nC4N1_42 4\nC4N1_56 2\nC4N1_7 2\nC4N1_33 2\nC4N1_34 4\nC4N1_57 2\nC4N1_35 2\nC4N1_8 2\nC4N1_6 2\nC1N1O1_1 2\nC1N1O1_0 2\nC1N1O1_2 4\nC1N1O1_3 2\nH2C2_0 1\nH2C2_1 1\nH2_0 1\nH1C1N1_0 1\nH1C1N1_1 1\nH3N1_0 1\nH3C1N1_2 1\nH3C1N1_3 3\nH3C1N1_1 1\nH3C1N1_0 3\nN1_0 4\nC1O1_0 1\nH2C1N1_2 2\nH2C1N1_0 2\nH2C1N1_1 2\nC3N1_4 2\nC3N1_3 2\nC3N1_2 2\nC3N1_5 2\nC3N1_9 2\nC3N1_7 2\nC3N1_6 2\nC3N1_8 4\nC3N1_10 2\nH2C1O2_2 1\nH2C1O2_5 1\nH2C1O2_4 1\nH2C1O2_3 1\nH2C1O2_1 1\nH2C1O2_0 3\nH1C3_2 2\nH1C3_1 2\nH1C3_0 2\nH1C4_4 4\nH1C4_3 2\nH1C4_2 2\nH1C4_5 4\nH1C4_10 2\nH1C4_9 4\nH1C4_8 2\nH1C4_6 2\nO2_0 3\nH1O1_0 2\nH3C1_0 2\nC1_0 3\nH1C2_0 2\nH1N1O1_1 1\nH1N1O1_0 3\nC2O1_2 1\nC2O1_0 3\nH2C2N1_2 4\nH2C2N1_5 2\nH2C2N1_4 2\nH2C2N1_3 2\nH2C2N1_10 2\nH2C2N1_11 2\nH2C2N1_8 2\nH2C2N1_1 4\nH2C2N1_0 4\nH2C2N1_7 4\nH2C2N1_9 2\nH2C2N1_13 2\nH2C2N1_12 2\nC2N1_2 2\nC2N1_0 2\nC2N1_1 2\nH2C2O1_4 1\nH2C2O1_3 1\nH2C2O1_2 3\nH2C2O1_5 3\nH2C2O1_0 3\nH2C2O1_7 1\nH2C2O1_8 1\nH2C2O1_6 1\nH2C2O1_1 3\nH2O2_0 1\nN1O1_0 2\nH2C1_0 1\nH1C3N1_31 1\nH1C3N1_30 3\nH1C3N1_23 3\nH1C3N1_24 1\nH1C3N1_12 1\nH1C3N1_15 1\nH1C3N1_5 1\nH1C3N1_14 3\nH1C3N1_13 3\nH1C3N1_25 1\nH1C3N1_22 3\nH1C3N1_32 1\nH1C3N1_33 1\nH1C3N1_6 1\nH1C3N1_8 1\nH1C3N1_27 3\nH1C3N1_20 3\nH1C3N1_16 1\nH1C3N1_29 1\nH1C3N1_11 1\nH1C3N1_9 1\nH1C3N1_7 3\nH1C3N1_10 3\nH1C3N1_17 3\nH1C3N1_28 3\nH1C3N1_21 3\nH1C3N1_26 3\nH1C3N1_19 1\nH1_0 2\nC1O2_2 1\nC1O2_0 1\nC1O2_1 3\nC3O1_2 1\nC3O1_5 1\nC3O1_4 3\nC3O1_3 1\nC3O1_6 1\nC3O1_1 1\nH2C1N2_4 1\nH2C1N2_3 3\nH2C1N2_11 1\nH2C1N2_2 3\nH2C1N2_5 1\nH2C1N2_10 1\nH2C1N2_12 1\nH2C1N2_7 3\nH2C1N2_9 1\nH2C1N2_13 1\nH2C1N2_8 1\nH2C1N2_6 3\nH2C1N2_1 3\nN2_0 1\nH1N1_0 3\nC3_1 3\nC3_0 1\nH3C1O1_0 2\nH3C1O1_1 2\nC4_0 3\nC4_1 1\nC4_4 1\nC4_5 3\nC4_2 3\nN2O1_2 1\nN2O1_1 1\nN2O1_0 3\nH1O2_0 2\nO1_0 3\nC1N1_0 2\nH2C1O1_1 1\nH2C1O1_0 1\nH3C2_0 2\nH3C2_1 2\nH1C1_0 2\nC5_13 1\nC5_4 1\nC5_2 1\nC5_12 1\nC5_0 1\nC5_19 3\nC5_9 3\nC5_8 1\nC5_20 1\nC5_18 3\nC5_11 1\nC5_6 3\nC5_16 3\nC2_0 1\nH1C1O1_1 2\nH1C1O1_0 2\nH2N1_0 2\n"
    }
   ],
   "source": [
    "data_occ = test('molecules')\n"
   ]
  },
  {
   "cell_type": "code",
   "execution_count": 4,
   "metadata": {},
   "outputs": [],
   "source": [
    "#out_file = 'C3O1_4.out'\n",
    "#out_file = 'H2N1_0.out'\n",
    "#out_file = 'H1C1_0.out'          \n",
    "#out_file = 'C1_0.out'\n",
    "#out_file = 'O1_0.out'\n",
    "#out_file = 'H2C3_3.out'\n",
    "    \n",
    "#tmp_n = lines[9].split()\n",
    "#tmp_n = tmp_n[1]\n",
    "#tmp_out = path + '/' + tmp_n + '/' + tmp_n + '.out'\n",
    "#os.system(\"cp \" + tmp_out + \" \" + tmp_n[:-4] + \".out\")\n",
    "#tmp_ts = int(float(tmp_s)*2)\n",
    "#tmp_n = item + '_S_' + str(tmp_ts)"
   ]
  }
 ],
 "metadata": {
  "language_info": {
   "name": "python",
   "codemirror_mode": {
    "name": "ipython",
    "version": 3
   },
   "version": "3.7.6-final"
  },
  "orig_nbformat": 2,
  "file_extension": ".py",
  "mimetype": "text/x-python",
  "name": "python",
  "npconvert_exporter": "python",
  "pygments_lexer": "ipython3",
  "version": 3,
  "kernelspec": {
   "name": "python37664bitminiconda3conda76ed2694244d4706aae228611b40b511",
   "display_name": "Python 3.7.6 64-bit ('miniconda3': conda)"
  }
 },
 "nbformat": 4,
 "nbformat_minor": 2
}