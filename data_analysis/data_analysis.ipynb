{
 "cells": [
  {
   "cell_type": "code",
   "execution_count": 1,
   "metadata": {
    "tags": [
     "outputPrepend",
     "outputPrepend",
     "outputPrepend",
     "outputPrepend",
     "outputPrepend",
     "outputPrepend",
     "outputPrepend",
     "outputPrepend",
     "outputPrepend",
     "outputPrepend",
     "outputPrepend",
     "outputPrepend",
     "outputPrepend",
     "outputPrepend",
     "outputPrepend",
     "outputPrepend",
     "outputPrepend",
     "outputPrepend",
     "outputPrepend",
     "outputPrepend",
     "outputPrepend",
     "outputPrepend",
     "outputPrepend",
     "outputPrepend",
     "outputPrepend",
     "outputPrepend",
     "outputPrepend",
     "outputPrepend",
     "outputPrepend",
     "outputPrepend",
     "outputPrepend",
     "outputPrepend",
     "outputPrepend",
     "outputPrepend",
     "outputPrepend",
     "outputPrepend",
     "outputPrepend",
     "outputPrepend",
     "outputPrepend",
     "outputPrepend",
     "outputPrepend",
     "outputPrepend",
     "outputPrepend",
     "outputPrepend",
     "outputPrepend",
     "outputPrepend"
    ]
   },
   "outputs": [],
   "source": [
    "import os\n",
    "import pandas as pd\n",
    "import numpy as np\n",
    "\n",
    "with open(\"/Users/tinaccil/Documents/GitHub/woon_query/data_analysis/dataframe/molecules_info.csv\",\"r\") as data:\n",
    "\tdf_mol = pd.read_csv(data, delimiter = '\\t')\n",
    "with open(\"/Users/tinaccil/Documents/GitHub/woon_query/data_analysis/dataframe/network.csv\",\"r\") as data:\n",
    "\tdf_net = pd.read_csv(data, delimiter = '\\t')\n",
    "\n",
    "#with pd.option_context('display.max_rows', None, 'display.max_columns', None):\n",
    "#    display(df_mol)"
   ]
  },
  {
   "cell_type": "code",
   "execution_count": 2,
   "metadata": {},
   "outputs": [
    {
     "output_type": "error",
     "ename": "IndentationError",
     "evalue": "unindent does not match any outer indentation level (<tokenize>, line 22)",
     "traceback": [
      "\u001b[0;36m  File \u001b[0;32m\"<tokenize>\"\u001b[0;36m, line \u001b[0;32m22\u001b[0m\n\u001b[0;31m    os.chdir(main)\u001b[0m\n\u001b[0m    ^\u001b[0m\n\u001b[0;31mIndentationError\u001b[0m\u001b[0;31m:\u001b[0m unindent does not match any outer indentation level\n"
     ]
    }
   ],
   "source": [
    "def test(directory):\n",
    "\tmain = os.getcwd()\n",
    "\tos.chdir(directory)\n",
    "\tmol_dir = os.getcwd()\n",
    "\tmol_file_list = os.listdir()\n",
    "\tif '.DS_Store' in mol_file_list:\n",
    "\t\tmol_file_list.remove('.DS_Store')\n",
    "\tfor k,mol in enumerate(mol_file_list):\n",
    "        os.chdir(mol)\n",
    "        tmp_dir = os.getcwd()\n",
    "        list_file = os.listdir()\n",
    "        if '.DS_Store' in list_file:\n",
    "            list_file.remove('.DS_Store')\n",
    "        for i,item in enumerate(list_file):\n",
    "            os.chdir(item)\n",
    "            tmp_files = os.listdir()\n",
    "            info_file = item + '.info'\n",
    "            if info_file in tmp_files:\n",
    "                print(info_file)\n",
    "            os.chdir(tmp_dir)\n",
    "        os.chdir(mol_dir)\n",
    "    os.chdir(main)\n",
    "    return()"
   ]
  },
  {
   "cell_type": "code",
   "execution_count": null,
   "metadata": {},
   "outputs": [],
   "source": [
    "'''\n",
    "\t\t\t\twith open(info_file,\"r\") as data:\n",
    "\t\t\t\t\tlines = data.readlines()\n",
    "\t\t\t\t\ttmp_e = lines[4].split()\n",
    "\t\t\t\t\ttmp_e = tmp_e[1]\n",
    "\t\t\t\t\ttmp_s = lines[3].split()\n",
    "\t\t\t\t\ttmp_s = tmp_s[1]\n",
    "\t\t\t\t\ttmp_h = lines[6].split()\n",
    "\t\t\t\t\ttmp_h = tmp_h[1]\n",
    "\t\t\t\t\ttmp_p = 'molecules' + '/' + mol + '/' + item + '.xtbopt.xyz'\n",
    "\t\t\t\ttmp_df = pd.DataFrame()\n",
    "\t\t\t\ttmp_df['formula'] = [mol]\n",
    "\t\t\t\ttmp_df['E_tot']   = [tmp_e]\n",
    "\t\t\t\ttmp_df['H(0K)']   = [tmp_h]\n",
    "\t\t\t\ttmp_df['Spin']    = [tmp_s]\n",
    "\t\t\t\ttmp_df['pwd_struct'] = [tmp_p]    \n",
    "                '''"
   ]
  }
 ],
 "metadata": {
  "language_info": {
   "name": "python",
   "codemirror_mode": {
    "name": "ipython",
    "version": 3
   },
   "version": "3.7.6-final"
  },
  "orig_nbformat": 2,
  "file_extension": ".py",
  "mimetype": "text/x-python",
  "name": "python",
  "npconvert_exporter": "python",
  "pygments_lexer": "ipython3",
  "version": 3,
  "kernelspec": {
   "name": "python37664bitminiconda3conda76ed2694244d4706aae228611b40b511",
   "display_name": "Python 3.7.6 64-bit ('miniconda3': conda)"
  }
 },
 "nbformat": 4,
 "nbformat_minor": 2
}