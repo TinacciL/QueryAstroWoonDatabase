{
 "cells": [
  {
   "cell_type": "code",
   "execution_count": 9,
   "metadata": {},
   "outputs": [],
   "source": [
    "import os\n",
    "import pandas as pd\n",
    "import numpy as np\n",
    "from mol_lib import FromNetworkDataFrameToNetworkClassList, FromReactionClassToImage\n",
    "import matplotlib.pyplot as plt\n",
    "\n",
    "with open(\"/Users/tinaccil/Documents/GitHub/woon_query/data_analysis/dataframe/molecules_info.csv\",\"r\") as data:\n",
    "\tdf_mol = pd.read_csv(data, delimiter = '\\t')\n",
    "with open(\"/Users/tinaccil/Documents/GitHub/woon_query/data_analysis/dataframe/network.csv\",\"r\") as data:\n",
    "\tdf_net = pd.read_csv(data, delimiter = '\\t')\n",
    "\n",
    "#with pd.option_context('display.max_rows', None, 'display.max_columns', None):\n",
    "#\tdisplay(df_net)"
   ]
  },
  {
   "cell_type": "code",
   "execution_count": 5,
   "metadata": {},
   "outputs": [],
   "source": [
    "net = FromNetworkDataFrameToNetworkClassList(df_net)\n",
    "tmp_id = []\n",
    "main = os.getcwd()\n",
    "os.chdir('reaction_image')\n",
    "for i,item in enumerate(net):\n",
    "    #print(net[i].reactants, net[i].products)\n",
    "    tmp = net[i]\n",
    "    name = 'reaction_' + str(i) + '.png'\n",
    "    FromReactionClassToImage(net[i],name,df_mol)\n",
    "    tmp_id.append('reaction_' + str(i))\n",
    "os.chdir(main)\n",
    "df_net['Reaction_Image'] = tmp_id"
   ]
  }
 ],
 "metadata": {
  "language_info": {
   "codemirror_mode": {
    "name": "ipython",
    "version": 3
   },
   "file_extension": ".py",
   "mimetype": "text/x-python",
   "name": "python",
   "nbconvert_exporter": "python",
   "pygments_lexer": "ipython3",
   "version": "3.7.6-final"
  },
  "orig_nbformat": 2,
  "kernelspec": {
   "name": "python37664bitminiconda3conda76ed2694244d4706aae228611b40b511",
   "display_name": "Python 3.7.6 64-bit ('miniconda3': conda)"
  }
 },
 "nbformat": 4,
 "nbformat_minor": 2
}